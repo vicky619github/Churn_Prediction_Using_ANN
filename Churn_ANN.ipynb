{
 "cells": [
  {
   "cell_type": "code",
   "execution_count": 18,
   "id": "f771486f",
   "metadata": {},
   "outputs": [],
   "source": [
    "import numpy as np\n",
    "import matplotlib.pyplot as plt\n",
    "import pandas as pd\n",
    "import tensorflow as tf"
   ]
  },
  {
   "cell_type": "markdown",
   "id": "3fe81583",
   "metadata": {},
   "source": [
    "# 1. EDA"
   ]
  },
  {
   "cell_type": "code",
   "execution_count": 19,
   "id": "0963fccd",
   "metadata": {},
   "outputs": [],
   "source": [
    "dataset = pd.read_csv(r'C:\\Users\\vickj\\OneDrive\\Documents\\Foundations of data engineering (Mtech)\\03_Udemy_DeepLearning\\ANN\\Dataset\\Part 1 - Artificial Neural Networks\\Churn_Modelling.csv')"
   ]
  },
  {
   "cell_type": "code",
   "execution_count": 20,
   "id": "67a6b53b",
   "metadata": {},
   "outputs": [
    {
     "data": {
      "text/html": [
       "<div>\n",
       "<style scoped>\n",
       "    .dataframe tbody tr th:only-of-type {\n",
       "        vertical-align: middle;\n",
       "    }\n",
       "\n",
       "    .dataframe tbody tr th {\n",
       "        vertical-align: top;\n",
       "    }\n",
       "\n",
       "    .dataframe thead th {\n",
       "        text-align: right;\n",
       "    }\n",
       "</style>\n",
       "<table border=\"1\" class=\"dataframe\">\n",
       "  <thead>\n",
       "    <tr style=\"text-align: right;\">\n",
       "      <th></th>\n",
       "      <th>RowNumber</th>\n",
       "      <th>CustomerId</th>\n",
       "      <th>Surname</th>\n",
       "      <th>CreditScore</th>\n",
       "      <th>Geography</th>\n",
       "      <th>Gender</th>\n",
       "      <th>Age</th>\n",
       "      <th>Tenure</th>\n",
       "      <th>Balance</th>\n",
       "      <th>NumOfProducts</th>\n",
       "      <th>HasCrCard</th>\n",
       "      <th>IsActiveMember</th>\n",
       "      <th>EstimatedSalary</th>\n",
       "      <th>Exited</th>\n",
       "    </tr>\n",
       "  </thead>\n",
       "  <tbody>\n",
       "    <tr>\n",
       "      <th>0</th>\n",
       "      <td>1</td>\n",
       "      <td>15634602</td>\n",
       "      <td>Hargrave</td>\n",
       "      <td>619</td>\n",
       "      <td>France</td>\n",
       "      <td>Female</td>\n",
       "      <td>42</td>\n",
       "      <td>2</td>\n",
       "      <td>0.00</td>\n",
       "      <td>1</td>\n",
       "      <td>1</td>\n",
       "      <td>1</td>\n",
       "      <td>101348.88</td>\n",
       "      <td>1</td>\n",
       "    </tr>\n",
       "    <tr>\n",
       "      <th>1</th>\n",
       "      <td>2</td>\n",
       "      <td>15647311</td>\n",
       "      <td>Hill</td>\n",
       "      <td>608</td>\n",
       "      <td>Spain</td>\n",
       "      <td>Female</td>\n",
       "      <td>41</td>\n",
       "      <td>1</td>\n",
       "      <td>83807.86</td>\n",
       "      <td>1</td>\n",
       "      <td>0</td>\n",
       "      <td>1</td>\n",
       "      <td>112542.58</td>\n",
       "      <td>0</td>\n",
       "    </tr>\n",
       "    <tr>\n",
       "      <th>2</th>\n",
       "      <td>3</td>\n",
       "      <td>15619304</td>\n",
       "      <td>Onio</td>\n",
       "      <td>502</td>\n",
       "      <td>France</td>\n",
       "      <td>Female</td>\n",
       "      <td>42</td>\n",
       "      <td>8</td>\n",
       "      <td>159660.80</td>\n",
       "      <td>3</td>\n",
       "      <td>1</td>\n",
       "      <td>0</td>\n",
       "      <td>113931.57</td>\n",
       "      <td>1</td>\n",
       "    </tr>\n",
       "    <tr>\n",
       "      <th>3</th>\n",
       "      <td>4</td>\n",
       "      <td>15701354</td>\n",
       "      <td>Boni</td>\n",
       "      <td>699</td>\n",
       "      <td>France</td>\n",
       "      <td>Female</td>\n",
       "      <td>39</td>\n",
       "      <td>1</td>\n",
       "      <td>0.00</td>\n",
       "      <td>2</td>\n",
       "      <td>0</td>\n",
       "      <td>0</td>\n",
       "      <td>93826.63</td>\n",
       "      <td>0</td>\n",
       "    </tr>\n",
       "    <tr>\n",
       "      <th>4</th>\n",
       "      <td>5</td>\n",
       "      <td>15737888</td>\n",
       "      <td>Mitchell</td>\n",
       "      <td>850</td>\n",
       "      <td>Spain</td>\n",
       "      <td>Female</td>\n",
       "      <td>43</td>\n",
       "      <td>2</td>\n",
       "      <td>125510.82</td>\n",
       "      <td>1</td>\n",
       "      <td>1</td>\n",
       "      <td>1</td>\n",
       "      <td>79084.10</td>\n",
       "      <td>0</td>\n",
       "    </tr>\n",
       "  </tbody>\n",
       "</table>\n",
       "</div>"
      ],
      "text/plain": [
       "   RowNumber  CustomerId   Surname  CreditScore Geography  Gender  Age  \\\n",
       "0          1    15634602  Hargrave          619    France  Female   42   \n",
       "1          2    15647311      Hill          608     Spain  Female   41   \n",
       "2          3    15619304      Onio          502    France  Female   42   \n",
       "3          4    15701354      Boni          699    France  Female   39   \n",
       "4          5    15737888  Mitchell          850     Spain  Female   43   \n",
       "\n",
       "   Tenure    Balance  NumOfProducts  HasCrCard  IsActiveMember  \\\n",
       "0       2       0.00              1          1               1   \n",
       "1       1   83807.86              1          0               1   \n",
       "2       8  159660.80              3          1               0   \n",
       "3       1       0.00              2          0               0   \n",
       "4       2  125510.82              1          1               1   \n",
       "\n",
       "   EstimatedSalary  Exited  \n",
       "0        101348.88       1  \n",
       "1        112542.58       0  \n",
       "2        113931.57       1  \n",
       "3         93826.63       0  \n",
       "4         79084.10       0  "
      ]
     },
     "execution_count": 20,
     "metadata": {},
     "output_type": "execute_result"
    }
   ],
   "source": [
    "dataset.head(5)"
   ]
  },
  {
   "cell_type": "code",
   "execution_count": 21,
   "id": "ab2409f7",
   "metadata": {},
   "outputs": [
    {
     "name": "stdout",
     "output_type": "stream",
     "text": [
      "        CustomerId\n",
      "Gender            \n",
      "Female        4543\n",
      "Male          5457\n"
     ]
    }
   ],
   "source": [
    "Gender_table1 = dataset.pivot_table(index='Gender', values='CustomerId', aggfunc='count')\n",
    "print(Gender_table1)"
   ]
  },
  {
   "cell_type": "code",
   "execution_count": 22,
   "id": "dbd7b358",
   "metadata": {},
   "outputs": [
    {
     "name": "stdout",
     "output_type": "stream",
     "text": [
      "           CustomerId\n",
      "Geography            \n",
      "France           5014\n",
      "Germany          2509\n",
      "Spain            2477\n"
     ]
    }
   ],
   "source": [
    "Geography_table1 = dataset.pivot_table(index='Geography', values='CustomerId', aggfunc='count')\n",
    "print(Geography_table1)"
   ]
  },
  {
   "cell_type": "markdown",
   "id": "2ea73933",
   "metadata": {},
   "source": [
    "# 2. Data Preprocessing"
   ]
  },
  {
   "cell_type": "code",
   "execution_count": 23,
   "id": "34de4b03",
   "metadata": {},
   "outputs": [],
   "source": [
    "X = dataset.iloc[:, 3:-1].values\n",
    "y = dataset.iloc[:, -1].values\n",
    "\n",
    "# .values will convert dataset values to numpy Array\n",
    "# iloc means integer location based indexing "
   ]
  },
  {
   "cell_type": "code",
   "execution_count": 24,
   "id": "280a6879",
   "metadata": {},
   "outputs": [
    {
     "name": "stdout",
     "output_type": "stream",
     "text": [
      "[[619 'France' 'Female' ... 1 1 101348.88]\n",
      " [608 'Spain' 'Female' ... 0 1 112542.58]\n",
      " [502 'France' 'Female' ... 1 0 113931.57]\n",
      " ...\n",
      " [709 'France' 'Female' ... 0 1 42085.58]\n",
      " [772 'Germany' 'Male' ... 1 0 92888.52]\n",
      " [792 'France' 'Female' ... 1 0 38190.78]]\n"
     ]
    }
   ],
   "source": [
    "print(X)"
   ]
  },
  {
   "cell_type": "code",
   "execution_count": 25,
   "id": "12af04f7",
   "metadata": {},
   "outputs": [],
   "source": [
    "#making the gender coloumn binary its also called \"Label Encoding\"\n",
    "\n",
    "from sklearn.preprocessing import LabelEncoder\n",
    "le = LabelEncoder()\n",
    "X[:, 2] = le.fit_transform(X[:, 2])"
   ]
  },
  {
   "cell_type": "code",
   "execution_count": 26,
   "id": "eb315155",
   "metadata": {},
   "outputs": [],
   "source": [
    "#One Hot Encoding the \"Geography\" column\n",
    "\n",
    "from sklearn.compose import ColumnTransformer\n",
    "from sklearn.preprocessing import OneHotEncoder\n",
    "ct = ColumnTransformer(transformers=[('encoder', OneHotEncoder(), [1])], remainder='passthrough')\n",
    "X = np.array(ct.fit_transform(X))"
   ]
  },
  {
   "cell_type": "markdown",
   "id": "18fef09a",
   "metadata": {},
   "source": [
    "# Training set and Test set"
   ]
  },
  {
   "cell_type": "code",
   "execution_count": 27,
   "id": "3354fb4d",
   "metadata": {},
   "outputs": [],
   "source": [
    "from sklearn.model_selection import train_test_split\n",
    "X_train, X_test, y_train, y_test = train_test_split(X, y, test_size = 0.2, random_state = 0)"
   ]
  },
  {
   "cell_type": "markdown",
   "id": "ac200c4e",
   "metadata": {},
   "source": [
    "# Feature Scaling"
   ]
  },
  {
   "cell_type": "code",
   "execution_count": 28,
   "id": "adec8969",
   "metadata": {},
   "outputs": [],
   "source": [
    "from sklearn.preprocessing import StandardScaler\n",
    "sc = StandardScaler()\n",
    "X_train = sc.fit_transform(X_train)\n",
    "X_test = sc.transform(X_test)"
   ]
  },
  {
   "cell_type": "markdown",
   "id": "01c236e0",
   "metadata": {},
   "source": [
    "# 3. Creating Layers\n",
    "## Initializing the ANN "
   ]
  },
  {
   "cell_type": "code",
   "execution_count": 29,
   "id": "38519c2d",
   "metadata": {},
   "outputs": [],
   "source": [
    "#creating a sequential neural network model\n",
    "#In a sequential model, the layers are stacked on top of each other, and the data flows sequentially through these layers.\n",
    "\n",
    "ann = tf.keras.models.Sequential() "
   ]
  },
  {
   "cell_type": "markdown",
   "id": "380f6b92",
   "metadata": {},
   "source": [
    "## Input layer and the first hidden layer"
   ]
  },
  {
   "cell_type": "code",
   "execution_count": 30,
   "id": "e241f1be",
   "metadata": {},
   "outputs": [],
   "source": [
    "ann.add(tf.keras.layers.Dense(units=6, activation='relu'))"
   ]
  },
  {
   "cell_type": "markdown",
   "id": "11a128a6",
   "metadata": {},
   "source": [
    "## Second hidden layer"
   ]
  },
  {
   "cell_type": "code",
   "execution_count": 31,
   "id": "d1850822",
   "metadata": {},
   "outputs": [],
   "source": [
    "ann.add(tf.keras.layers.Dense(units=6, activation='relu'))"
   ]
  },
  {
   "cell_type": "markdown",
   "id": "e89e591e",
   "metadata": {},
   "source": [
    "## Adding the output layer"
   ]
  },
  {
   "cell_type": "code",
   "execution_count": 32,
   "id": "e9dc92c2",
   "metadata": {},
   "outputs": [],
   "source": [
    "#IMPORTANT : If we are doing non binary classification then the activation function must be \"SOFTMAX\"\n",
    "#since the y variable is binary then the activation function must be \"SIGMOID\" => output layer units = 1\n",
    "\n",
    "ann.add(tf.keras.layers.Dense(units=1, activation='sigmoid')) "
   ]
  },
  {
   "cell_type": "markdown",
   "id": "989940a0",
   "metadata": {},
   "source": [
    "# 4. Training the ANN"
   ]
  },
  {
   "cell_type": "markdown",
   "id": "c237b772",
   "metadata": {},
   "source": [
    "## Compiling the ANN"
   ]
  },
  {
   "cell_type": "code",
   "execution_count": 33,
   "id": "644cd2d1",
   "metadata": {},
   "outputs": [],
   "source": [
    "ann.compile(optimizer='adam', loss='binary_crossentropy', metrics= ['accuracy'])"
   ]
  },
  {
   "cell_type": "markdown",
   "id": "c09835ee",
   "metadata": {},
   "source": [
    "## Training the ANN on the Training set"
   ]
  },
  {
   "cell_type": "code",
   "execution_count": 34,
   "id": "97b7f8da",
   "metadata": {},
   "outputs": [
    {
     "name": "stdout",
     "output_type": "stream",
     "text": [
      "Epoch 1/50\n",
      "250/250 [==============================] - 2s 2ms/step - loss: 0.6394 - accuracy: 0.6326\n",
      "Epoch 2/50\n",
      "250/250 [==============================] - 1s 2ms/step - loss: 0.4823 - accuracy: 0.7959\n",
      "Epoch 3/50\n",
      "250/250 [==============================] - 1s 2ms/step - loss: 0.4482 - accuracy: 0.7965\n",
      "Epoch 4/50\n",
      "250/250 [==============================] - 1s 2ms/step - loss: 0.4315 - accuracy: 0.7991\n",
      "Epoch 5/50\n",
      "250/250 [==============================] - 1s 2ms/step - loss: 0.4192 - accuracy: 0.8087\n",
      "Epoch 6/50\n",
      "250/250 [==============================] - 1s 2ms/step - loss: 0.4055 - accuracy: 0.8230\n",
      "Epoch 7/50\n",
      "250/250 [==============================] - 1s 2ms/step - loss: 0.3897 - accuracy: 0.8336\n",
      "Epoch 8/50\n",
      "250/250 [==============================] - 1s 2ms/step - loss: 0.3752 - accuracy: 0.8440\n",
      "Epoch 9/50\n",
      "250/250 [==============================] - 1s 2ms/step - loss: 0.3630 - accuracy: 0.8499\n",
      "Epoch 10/50\n",
      "250/250 [==============================] - 1s 2ms/step - loss: 0.3544 - accuracy: 0.8540\n",
      "Epoch 11/50\n",
      "250/250 [==============================] - 1s 2ms/step - loss: 0.3499 - accuracy: 0.8561\n",
      "Epoch 12/50\n",
      "250/250 [==============================] - 1s 2ms/step - loss: 0.3464 - accuracy: 0.8581\n",
      "Epoch 13/50\n",
      "250/250 [==============================] - 1s 2ms/step - loss: 0.3448 - accuracy: 0.8599\n",
      "Epoch 14/50\n",
      "250/250 [==============================] - 1s 2ms/step - loss: 0.3432 - accuracy: 0.8597\n",
      "Epoch 15/50\n",
      "250/250 [==============================] - 1s 2ms/step - loss: 0.3426 - accuracy: 0.8600\n",
      "Epoch 16/50\n",
      "250/250 [==============================] - 1s 2ms/step - loss: 0.3417 - accuracy: 0.8616\n",
      "Epoch 17/50\n",
      "250/250 [==============================] - 1s 2ms/step - loss: 0.3408 - accuracy: 0.8600\n",
      "Epoch 18/50\n",
      "250/250 [==============================] - 1s 2ms/step - loss: 0.3406 - accuracy: 0.8608\n",
      "Epoch 19/50\n",
      "250/250 [==============================] - 1s 2ms/step - loss: 0.3399 - accuracy: 0.8612\n",
      "Epoch 20/50\n",
      "250/250 [==============================] - 1s 2ms/step - loss: 0.3394 - accuracy: 0.8608\n",
      "Epoch 21/50\n",
      "250/250 [==============================] - 1s 2ms/step - loss: 0.3389 - accuracy: 0.8614\n",
      "Epoch 22/50\n",
      "250/250 [==============================] - 1s 2ms/step - loss: 0.3385 - accuracy: 0.8611\n",
      "Epoch 23/50\n",
      "250/250 [==============================] - 1s 2ms/step - loss: 0.3384 - accuracy: 0.8626\n",
      "Epoch 24/50\n",
      "250/250 [==============================] - 1s 2ms/step - loss: 0.3380 - accuracy: 0.8614\n",
      "Epoch 25/50\n",
      "250/250 [==============================] - 1s 2ms/step - loss: 0.3375 - accuracy: 0.8615\n",
      "Epoch 26/50\n",
      "250/250 [==============================] - 1s 2ms/step - loss: 0.3374 - accuracy: 0.8611\n",
      "Epoch 27/50\n",
      "250/250 [==============================] - 1s 2ms/step - loss: 0.3371 - accuracy: 0.8619\n",
      "Epoch 28/50\n",
      "250/250 [==============================] - 1s 2ms/step - loss: 0.3372 - accuracy: 0.8618\n",
      "Epoch 29/50\n",
      "250/250 [==============================] - 0s 2ms/step - loss: 0.3371 - accuracy: 0.8611\n",
      "Epoch 30/50\n",
      "250/250 [==============================] - 0s 1ms/step - loss: 0.3370 - accuracy: 0.8612\n",
      "Epoch 31/50\n",
      "250/250 [==============================] - 0s 1ms/step - loss: 0.3363 - accuracy: 0.8625\n",
      "Epoch 32/50\n",
      "250/250 [==============================] - 0s 1ms/step - loss: 0.3364 - accuracy: 0.8629\n",
      "Epoch 33/50\n",
      "250/250 [==============================] - 0s 1ms/step - loss: 0.3355 - accuracy: 0.8633\n",
      "Epoch 34/50\n",
      "250/250 [==============================] - 0s 2ms/step - loss: 0.3362 - accuracy: 0.8636\n",
      "Epoch 35/50\n",
      "250/250 [==============================] - 0s 2ms/step - loss: 0.3355 - accuracy: 0.8634\n",
      "Epoch 36/50\n",
      "250/250 [==============================] - 0s 1ms/step - loss: 0.3355 - accuracy: 0.8625\n",
      "Epoch 37/50\n",
      "250/250 [==============================] - 0s 2ms/step - loss: 0.3351 - accuracy: 0.8637\n",
      "Epoch 38/50\n",
      "250/250 [==============================] - 0s 2ms/step - loss: 0.3349 - accuracy: 0.8629\n",
      "Epoch 39/50\n",
      "250/250 [==============================] - 1s 2ms/step - loss: 0.3348 - accuracy: 0.8619\n",
      "Epoch 40/50\n",
      "250/250 [==============================] - 1s 2ms/step - loss: 0.3342 - accuracy: 0.8622\n",
      "Epoch 41/50\n",
      "250/250 [==============================] - 1s 2ms/step - loss: 0.3350 - accuracy: 0.8625\n",
      "Epoch 42/50\n",
      "250/250 [==============================] - 1s 2ms/step - loss: 0.3345 - accuracy: 0.8622\n",
      "Epoch 43/50\n",
      "250/250 [==============================] - 1s 2ms/step - loss: 0.3339 - accuracy: 0.8624\n",
      "Epoch 44/50\n",
      "250/250 [==============================] - 1s 2ms/step - loss: 0.3345 - accuracy: 0.8620\n",
      "Epoch 45/50\n",
      "250/250 [==============================] - 1s 2ms/step - loss: 0.3341 - accuracy: 0.8634\n",
      "Epoch 46/50\n",
      "250/250 [==============================] - 1s 2ms/step - loss: 0.3340 - accuracy: 0.8637\n",
      "Epoch 47/50\n",
      "250/250 [==============================] - 1s 2ms/step - loss: 0.3343 - accuracy: 0.8622\n",
      "Epoch 48/50\n",
      "250/250 [==============================] - 1s 2ms/step - loss: 0.3339 - accuracy: 0.8626\n",
      "Epoch 49/50\n",
      "250/250 [==============================] - 1s 2ms/step - loss: 0.3339 - accuracy: 0.8631\n",
      "Epoch 50/50\n",
      "250/250 [==============================] - 1s 2ms/step - loss: 0.3337 - accuracy: 0.8624\n"
     ]
    },
    {
     "data": {
      "text/plain": [
       "<keras.src.callbacks.History at 0x234637ae650>"
      ]
     },
     "execution_count": 34,
     "metadata": {},
     "output_type": "execute_result"
    }
   ],
   "source": [
    "ann.fit(X_train,y_train, batch_size=32, epochs = 50)\n",
    "\n",
    "# Batch_size is 32 means => forward and backward propagation, along with weight updates, will happen 32 times for \n",
    "# 1 epoh to complete."
   ]
  },
  {
   "cell_type": "markdown",
   "id": "153a5e05",
   "metadata": {},
   "source": [
    "Use our ANN model to predict if the customer with the following informations will leave the bank:\n",
    "\n",
    "Geography: France\n",
    "\n",
    "Credit Score: 600\n",
    "\n",
    "Gender: Male\n",
    "\n",
    "Age: 40 years old\n",
    "\n",
    "Tenure: 3 years\n",
    "\n",
    "Balance: $ 60000\n",
    "\n",
    "Number of Products: 2\n",
    "\n",
    "Does this customer have a credit card ? Yes\n",
    "\n",
    "Is this customer an Active Member: Yes\n",
    "\n",
    "Estimated Salary: $ 50000\n",
    "\n",
    "So, should we say goodbye to that customer ?"
   ]
  },
  {
   "cell_type": "code",
   "execution_count": 35,
   "id": "1c9afc4a",
   "metadata": {},
   "outputs": [
    {
     "name": "stdout",
     "output_type": "stream",
     "text": [
      "1/1 [==============================] - 0s 238ms/step\n",
      "[[False]]\n"
     ]
    }
   ],
   "source": [
    "print(ann.predict(sc.transform([[1, 0, 0, 600, 1, 40, 3, 60000, 2, 1, 1, 50000]])) > 0.5)"
   ]
  },
  {
   "cell_type": "markdown",
   "id": "74bc5921",
   "metadata": {},
   "source": [
    "# Predicting the Test set results"
   ]
  },
  {
   "cell_type": "code",
   "execution_count": 36,
   "id": "7e6fdfa5",
   "metadata": {},
   "outputs": [
    {
     "name": "stdout",
     "output_type": "stream",
     "text": [
      "63/63 [==============================] - 0s 1ms/step\n"
     ]
    },
    {
     "data": {
      "text/plain": [
       "array([[0, 0],\n",
       "       [0, 1],\n",
       "       [0, 0],\n",
       "       ...,\n",
       "       [0, 0],\n",
       "       [0, 0],\n",
       "       [0, 0]], dtype=int64)"
      ]
     },
     "execution_count": 36,
     "metadata": {},
     "output_type": "execute_result"
    }
   ],
   "source": [
    "y_pred = ann.predict(X_test)\n",
    "y_pred = (y_pred > 0.5)\n",
    "np.column_stack((y_pred,y_test))\n",
    "\n",
    "#0 => stay\n",
    "#1 => left"
   ]
  },
  {
   "cell_type": "markdown",
   "id": "74185819",
   "metadata": {},
   "source": [
    "# Confusion Matrix"
   ]
  },
  {
   "cell_type": "code",
   "execution_count": 37,
   "id": "ef315d14",
   "metadata": {},
   "outputs": [
    {
     "name": "stdout",
     "output_type": "stream",
     "text": [
      "[[1511   84]\n",
      " [ 190  215]]\n"
     ]
    },
    {
     "data": {
      "text/plain": [
       "0.863"
      ]
     },
     "execution_count": 37,
     "metadata": {},
     "output_type": "execute_result"
    }
   ],
   "source": [
    "from sklearn.metrics import confusion_matrix, accuracy_score\n",
    "cm = confusion_matrix(y_test, y_pred)\n",
    "print(cm)\n",
    "accuracy_score(y_test, y_pred)"
   ]
  },
  {
   "cell_type": "markdown",
   "id": "e9996779",
   "metadata": {},
   "source": [
    "True Positives (TP): The number of correctly predicted positive instances.    \n",
    "True Negatives (TN): The number of correctly predicted negative instances.    \n",
    "False Positives (FP): The number of incorrectly predicted positive instances.\n",
    "\n",
    "False Negatives (FN): The number of incorrectly predicted negative instances. "
   ]
  },
  {
   "cell_type": "markdown",
   "id": "555288dd",
   "metadata": {},
   "source": [
    "So, to directly answer your question, if a lot of people stay in a bank, the churn rate is typically negative, as this indicates good customer retention."
   ]
  },
  {
   "cell_type": "code",
   "execution_count": 38,
   "id": "70c55606",
   "metadata": {},
   "outputs": [
    {
     "data": {
      "image/png": "[encoded data removed]",
      "text/plain": [
       "<Figure size 640x480 with 1 Axes>"
      ]
     },
     "metadata": {},
     "output_type": "display_data"
    }
   ],
   "source": [
    "import matplotlib.pyplot as plt\n",
    "import numpy as np\n",
    "\n",
    "TN = 1519 #stays in the bank \n",
    "FP = 76   #left the bank (incorrect)\n",
    "FN = 205  #stays in the bank (incorrect)\n",
    "TP = 200  #left the bank\n",
    "\n",
    "confusion_matrix = np.array([[TN, FP], [FN, TP]])\n",
    "\n",
    "plt.imshow(cm, cmap='Blues', interpolation='nearest')\n",
    "plt.title('Confusion M-atrix')\n",
    "\n",
    "\n",
    "plt.xticks([0, 1], ['0', '1'])\n",
    "plt.yticks([0, 1], ['0', '1'])\n",
    "\n",
    "for i in range(2):\n",
    "    for j in range(2):\n",
    "        plt.text(j, i, f'{confusion_matrix[i, j]}', ha='center', va='center', color='Red')\n",
    "\n",
    "plt.ylabel('Actual label')\n",
    "plt.xlabel('Predicted label')\n",
    "\n",
    "plt.show()"
   ]
  },
  {
   "cell_type": "code",
   "execution_count": null,
   "id": "7d61e954",
   "metadata": {},
   "outputs": [],
   "source": []
  },
  {
   "cell_type": "code",
   "execution_count": null,
   "id": "cb58ecfc",
   "metadata": {},
   "outputs": [],
   "source": []
  },
  {
   "cell_type": "code",
   "execution_count": null,
   "id": "0fe6fff0",
   "metadata": {},
   "outputs": [],
   "source": []
  }
 ],
 "metadata": {
  "kernelspec": {
   "display_name": "Python 3 (ipykernel)",
   "language": "python",
   "name": "python3"
  },
  "language_info": {
   "codemirror_mode": {
    "name": "ipython",
    "version": 3
   },
   "file_extension": ".py",
   "mimetype": "text/x-python",
   "name": "python",
   "nbconvert_exporter": "python",
   "pygments_lexer": "ipython3",
   "version": "3.11.5"
  }
 },
 "nbformat": 4,
 "nbformat_minor": 5
}
